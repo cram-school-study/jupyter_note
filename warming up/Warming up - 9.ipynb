{
 "cells": [
  {
   "cell_type": "code",
   "execution_count": 1,
   "metadata": {},
   "outputs": [
    {
     "name": "stdout",
     "output_type": "stream",
     "text": [
      "[6, 8, 10, 15, 35, 41]\n"
     ]
    }
   ],
   "source": [
    "# 로또번호 추출기 1~45 6개, 중복은 안됨\n",
    "import random\n",
    "\n",
    "def lotter_number_maker_by_jeong():\n",
    "    result = []\n",
    "    while(True):\n",
    "        result.append(random.randint(1,45))\n",
    "        if len(set(result)) == 6:\n",
    "            return sorted(set(result))\n",
    "\n",
    "def lotter_number_maker_by_teacher():\n",
    "    return sorted(random.sample(range(1,46),6))\n",
    "\n",
    "\n",
    "\n",
    "print(lotter_number_maker_by_teacher())"
   ]
  }
 ],
 "metadata": {
  "kernelspec": {
   "display_name": "Python 3",
   "language": "python",
   "name": "python3"
  },
  "language_info": {
   "codemirror_mode": {
    "name": "ipython",
    "version": 3
   },
   "file_extension": ".py",
   "mimetype": "text/x-python",
   "name": "python",
   "nbconvert_exporter": "python",
   "pygments_lexer": "ipython3",
   "version": "3.8.5"
  }
 },
 "nbformat": 4,
 "nbformat_minor": 4
}
