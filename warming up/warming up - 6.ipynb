{
 "cells": [
  {
   "cell_type": "markdown",
   "metadata": {},
   "source": [
    "# testing_anagram(fword, sword) 함수를 만드시오.\n",
    "# 애너그램 게임 - 스펠링 갯수를 모두 조합을 시켜 동일한 스펠링의 갯수를 갖는 단어/단어열"
   ]
  },
  {
   "cell_type": "code",
   "execution_count": 5,
   "metadata": {},
   "outputs": [],
   "source": [
    "def testing_anagram(data1, data2):\n",
    "    return sorted(data1.upper().replace(' ','')) == sorted(data2.upper().replace(' ',''))"
   ]
  },
  {
   "cell_type": "code",
   "execution_count": 6,
   "metadata": {},
   "outputs": [
    {
     "name": "stdout",
     "output_type": "stream",
     "text": [
      "True\n",
      "True\n",
      "True\n",
      "False\n"
     ]
    }
   ],
   "source": [
    "print(testing_anagram('listen', 'silent'))\n",
    "print(testing_anagram('Programming', 'Gram Ring Mop'))\n",
    "print(testing_anagram('Dirty room', 'Dormitory'))\n",
    "print(testing_anagram('toy', 'yoi'))"
   ]
  }
 ],
 "metadata": {
  "kernelspec": {
   "display_name": "Python 3",
   "language": "python",
   "name": "python3"
  },
  "language_info": {
   "codemirror_mode": {
    "name": "ipython",
    "version": 3
   },
   "file_extension": ".py",
   "mimetype": "text/x-python",
   "name": "python",
   "nbconvert_exporter": "python",
   "pygments_lexer": "ipython3",
   "version": "3.8.5"
  }
 },
 "nbformat": 4,
 "nbformat_minor": 4
}
