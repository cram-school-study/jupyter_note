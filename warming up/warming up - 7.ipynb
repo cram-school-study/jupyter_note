{
 "cells": [
  {
   "cell_type": "code",
   "execution_count": 1,
   "metadata": {},
   "outputs": [
    {
     "name": "stdout",
     "output_type": "stream",
     "text": [
      "3\n",
      "4\n",
      "3\n"
     ]
    }
   ],
   "source": [
    "# monkey_typing(data, words)함수를 만드시오.\n",
    "# 원숭이가 마구 컴퓨터 자판을 두드린다.\n",
    "# 호출 함수의 인자는 첫번째는 스트링, 두번째는 소문자 단어 set으로 넘어간다.\n",
    "# 몇개의 단어가 의미가 있었는지 확인한다.\n",
    "\n",
    "def monkey_typing_by_jeong(data, words):\n",
    "    count = 0\n",
    "    for i in words: \n",
    "        if data.find(i) != -1: count += 1\n",
    "    return count\n",
    "\n",
    "def monkey_typing_by_teacher1(data, words):\n",
    "    count = 0\n",
    "    for i in words: \n",
    "        if i in data: count += 1\n",
    "    return count\n",
    "\n",
    "def monkey_typing_by_teacher2(data, words):\n",
    "    return len([xx for xx in words if xx in data])\n",
    "\n",
    "\n",
    "#3 단어 찾기\n",
    "def monkey_typing_by_teacher3(data, words):\n",
    "    return len([xx for xx in words if xx in data])\n",
    "\n",
    "print(monkey_typing_by_teacher2('how aregojdoijgodijosjgd you idjfojs idol', {'how', 'are', 'you', 'hello'}))\n",
    "print(monkey_typing_by_teacher2('gojiojgappleorangeojiogjoyoujiidolfdboyol', {'boy', 'idol', 'orange', 'apple'}))\n",
    "print(monkey_typing_by_teacher2('dgjajosjhgolfnnlkbaseballanngmsgoodbat', {'baseball', 'golf', 'orange', 'bat'}))"
   ]
  }
 ],
 "metadata": {
  "kernelspec": {
   "display_name": "Python 3",
   "language": "python",
   "name": "python3"
  },
  "language_info": {
   "codemirror_mode": {
    "name": "ipython",
    "version": 3
   },
   "file_extension": ".py",
   "mimetype": "text/x-python",
   "name": "python",
   "nbconvert_exporter": "python",
   "pygments_lexer": "ipython3",
   "version": "3.8.5"
  }
 },
 "nbformat": 4,
 "nbformat_minor": 4
}
