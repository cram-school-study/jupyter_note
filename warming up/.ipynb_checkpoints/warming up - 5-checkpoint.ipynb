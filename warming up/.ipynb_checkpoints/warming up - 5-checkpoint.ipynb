{
 "cells": [
  {
   "cell_type": "markdown",
   "metadata": {},
   "source": [
    "# fix_sentence(text) 함수를 만들고 문장의 첫글자는 대문자로 마침표가 없을떄는 \n",
    "# 마침표를 추가하여 text return 하는 함수를 만드세요\n",
    "# 입력 예) sample_sentence = 'hello, everybody'\n",
    "# 출력 예) fix_sentence(sample_sentence) 호출하면 'Hello, everybody.'출력\n",
    "\n",
    "# endswith\n",
    "# capitalize"
   ]
  },
  {
   "cell_type": "code",
   "execution_count": 4,
   "metadata": {},
   "outputs": [],
   "source": [
    "def fix_sentence(data):\n",
    "    if not data.endswith('.'):\n",
    "        data = data + '.'\n",
    "        return data.capitalize()"
   ]
  },
  {
   "cell_type": "code",
   "execution_count": 2,
   "metadata": {},
   "outputs": [],
   "source": [
    "test = 'hello, everybody'"
   ]
  },
  {
   "cell_type": "code",
   "execution_count": 3,
   "metadata": {},
   "outputs": [
    {
     "name": "stdout",
     "output_type": "stream",
     "text": [
      "Hello, everybody.\n"
     ]
    }
   ],
   "source": [
    "print(fix_sentence(test))"
   ]
  }
 ],
 "metadata": {
  "kernelspec": {
   "display_name": "Python 3",
   "language": "python",
   "name": "python3"
  },
  "language_info": {
   "codemirror_mode": {
    "name": "ipython",
    "version": 3
   },
   "file_extension": ".py",
   "mimetype": "text/x-python",
   "name": "python",
   "nbconvert_exporter": "python",
   "pygments_lexer": "ipython3",
   "version": "3.8.5"
  }
 },
 "nbformat": 4,
 "nbformat_minor": 4
}
