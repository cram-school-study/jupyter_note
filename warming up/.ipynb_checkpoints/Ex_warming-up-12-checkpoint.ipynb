{
 "cells": [
  {
   "cell_type": "code",
   "execution_count": null,
   "metadata": {},
   "outputs": [],
   "source": [
    "# 마방진 - 홀수 x 홀수, 홀수 - 3이상\n",
    "# 가로, 세로 , 대각선이 같은 매트릭스\n",
    "# 짝수 해봐라~~\n",
    "\n",
    "\n",
    "import numpy as np\n",
    "n = int(input(\"n*n 마방진을 위한 n값을 입력(3이상, 홀수만)=\"))\n",
    "matrix = np.zeros((n,n), dtype=int)\n",
    "\n",
    "s_row=0; s_col=n//2\n",
    "matrix[s_row, s_col] = 1\n",
    "row=0; col=0\n",
    "\n",
    "for i in range(2, n*n+1):\n",
    "    row = s_row # 전 위치갑 row값 보관\n",
    "    col = s_col # 전 위치값 col값 보관\n",
    "    s_row = s_row - 1\n",
    "    s_col = s_col + 1\n",
    "\n",
    "    if s_row < 0 :\n",
    "        s_row = n - 1\n",
    "    if s_col > n-1:\n",
    "        s_col = 0\n",
    "\n",
    "    if matrix[s_row, s_col] == 0:\n",
    "        matrix[s_row, s_col] == i\n",
    "    else: # 0이 아니면 다른 숫자 있다는 이야기\n",
    "        s_row = row + 1\n",
    "        matrix[s_row, s_col] = i\n",
    "print(matrix)\n",
    "\n",
    "# def dd(index):\n",
    "#     a[index][index] = [][]\n",
    "#     for i in range(1,index):\n",
    "#         print(i)\n",
    "\n",
    "# dd(3)"
   ]
  }
 ],
 "metadata": {
  "kernelspec": {
   "display_name": "Python 3",
   "language": "python",
   "name": "python3"
  },
  "language_info": {
   "codemirror_mode": {
    "name": "ipython",
    "version": 3
   },
   "file_extension": ".py",
   "mimetype": "text/x-python",
   "name": "python",
   "nbconvert_exporter": "python",
   "pygments_lexer": "ipython3",
   "version": "3.8.5"
  }
 },
 "nbformat": 4,
 "nbformat_minor": 4
}
