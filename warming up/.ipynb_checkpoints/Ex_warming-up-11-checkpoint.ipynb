{
 "cells": [
  {
   "cell_type": "code",
   "execution_count": null,
   "metadata": {},
   "outputs": [],
   "source": [
    "# 피클 알아보기\n",
    "# 파이썬 _ 변수\n",
    "# 피클\n",
    "# random.seed\n",
    "# 마방진 만들기 - 인덱스 문제\n",
    "\n",
    "f = open(\"C:/Users/JWJ/Desktop/바탕화면/수업파일/실습데이터/사과나무in1.txt\", \"r\")\n",
    "n = int(f.readline())\n",
    "a = [list(map(int, f.readline().split())) for _ in range(n)]\n",
    "\n",
    "def diamond_by_jeong():\n",
    "    toggle = True\n",
    "    index = len(a)//2\n",
    "    cnt, sum = 1, 0\n",
    "    for i in range(len(a)):\n",
    "        loop = 0\n",
    "        for j in range(0,cnt):\n",
    "            sum = sum + a[i][index-(abs(loop))] + a[i][index+(abs(loop))]\n",
    "            loop += 1\n",
    "            print(cnt)\n",
    "        sum = sum - a[i][index]\n",
    "        if cnt == index: toggle = not toggle\n",
    "        if toggle: cnt += 1\n",
    "        else: cnt -= 1\n",
    "    return sum\n",
    "\n",
    "print(diamond_by_jeong())\n",
    "\n",
    "\n",
    "\n",
    "def diamond_by_teacher():\n",
    "    for i in range(n):\n",
    "        for j in range(s,e+1):\n",
    "            sum+= a[i][j]\n",
    "        if i < n//2 :\n",
    "            s=s-1; e=e+1\n",
    "        else:\n",
    "            s=s+1; e=e-1\n",
    "\n",
    "\n",
    "# def N_Matirx(n):\n",
    "#     import random\n",
    "#     random.seed(0)\n",
    "#     return [[random.randint(i,n*n) for i in range(n)] for j in range(n)]\n",
    "\n",
    "# X=3\n",
    "# m1 = N_Matirx(X)\n",
    "# for i in range(X):\n",
    "#     print(m1[i])\n",
    "\n",
    "\n",
    "\n"
   ]
  }
 ],
 "metadata": {
  "kernelspec": {
   "display_name": "Python 3",
   "language": "python",
   "name": "python3"
  },
  "language_info": {
   "codemirror_mode": {
    "name": "ipython",
    "version": 3
   },
   "file_extension": ".py",
   "mimetype": "text/x-python",
   "name": "python",
   "nbconvert_exporter": "python",
   "pygments_lexer": "ipython3",
   "version": "3.8.5"
  }
 },
 "nbformat": 4,
 "nbformat_minor": 4
}
