{
 "cells": [
  {
   "cell_type": "code",
   "execution_count": null,
   "metadata": {},
   "outputs": [],
   "source": [
    "# 10자 이상, 최소 한 대문자, 숫자 한개는 반드시 포함하는 조합으로 패스워드를 만들어 이 조건을 만족하면 True 그렇지않으면 False를 출력하는 함수를 만드시오\n",
    "# 위의 조건을 만족하는 함수를 만들었다면 이제는 특수문자를 반드시 포함하는 함수 is_realgoodpw(ata)로 확장해보시오\n",
    "\n",
    "def is_goodpw_by_jeong(data):\n",
    "    if not len_check(data): return False\n",
    "    if not upper_check(data): return False\n",
    "    if not lower_check(data): return False\n",
    "    return True\n",
    "\n",
    "# 길이 체크\n",
    "def len_check(data):\n",
    "    if len(data) >= 10: return True\n",
    "    return False\n",
    "\n",
    "# 대문자 체크\n",
    "def upper_check(data):\n",
    "    for i in data:\n",
    "        if ord('A') > ord(i) or ord('Z') < ord(i):\n",
    "            return False\n",
    "    return True\n",
    "\n",
    "#소문자 체크\n",
    "def lower_check(data):\n",
    "    for i in data:\n",
    "        if ord('a') > ord(i) or ord('z') < ord(i):\n",
    "            return False\n",
    "    return True\n",
    "\n",
    "\n",
    "def is_goodpw_by_teacher(data):\n",
    "    if len(data) < 10: return False\n",
    "    if data.upper() == data: return False\n",
    "    if data.lower() == data: return False\n",
    "    return any(xx.isdigit() for xx in data)\n",
    "\n",
    "def is_realgoodpw_by_teacher(data):\n",
    "    if len(data) < 10 : return False\n",
    "    if data.upper() == data: return False\n",
    "    if data.lower() == data: return False\n",
    "    if any( xx in ['!','@','#','$','%','^','&','*','(',')','_','-','+','=','\\\\','|'] for xx in data):\n",
    "        return ant(xx.isdigit() for xx in data)\n",
    "    else: return False\n",
    "\n"
   ]
  }
 ],
 "metadata": {
  "kernelspec": {
   "display_name": "Python 3",
   "language": "python",
   "name": "python3"
  },
  "language_info": {
   "codemirror_mode": {
    "name": "ipython",
    "version": 3
   },
   "file_extension": ".py",
   "mimetype": "text/x-python",
   "name": "python",
   "nbconvert_exporter": "python",
   "pygments_lexer": "ipython3",
   "version": "3.8.5"
  }
 },
 "nbformat": 4,
 "nbformat_minor": 4
}
