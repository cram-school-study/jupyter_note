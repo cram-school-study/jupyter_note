{
 "cells": [
  {
   "cell_type": "markdown",
   "metadata": {},
   "source": [
    "# warming up Python - 3\n",
    "\n",
    "### 숫자를 입력 받아 각각 mul_digits(data) 함수를 만드시오.\n",
    "### 각 단위의 숫자를 곱해서 출력을 하시오\n",
    "### 단 0은 곱하지 않습니다.\n",
    "### 예) 1234 -> 1*2*3*4 = 24\n",
    "### 예) 1000 -> 1"
   ]
  },
  {
   "cell_type": "code",
   "execution_count": 1,
   "metadata": {},
   "outputs": [],
   "source": [
    "def mul_digits(data):\n",
    "    dap=1\n",
    "    for i in str(data):\n",
    "        if int(i):\n",
    "            dap=dap*int(i)\n",
    "    return dap"
   ]
  },
  {
   "cell_type": "code",
   "execution_count": 2,
   "metadata": {},
   "outputs": [],
   "source": [
    "def mul_digits2(data):\n",
    "    dap = 1\n",
    "    x = 1\n",
    "    while x != 0:\n",
    "        x = data % 10\n",
    "        if x :\n",
    "            dap = dap * x\n",
    "        x = data//10\n",
    "    return dap"
   ]
  },
  {
   "cell_type": "code",
   "execution_count": 3,
   "metadata": {},
   "outputs": [],
   "source": [
    "def most_frequent(data):\n",
    "    count_list=[]\n",
    "    for x in data:\n",
    "        count_list.append(data.count(x))\n",
    "    return data[count_list.index(max(count_list))]"
   ]
  },
  {
   "cell_type": "code",
   "execution_count": 4,
   "metadata": {},
   "outputs": [],
   "source": [
    "def most_frequent2(data):\n",
    "    return max(data, key=data.count)"
   ]
  },
  {
   "cell_type": "code",
   "execution_count": 5,
   "metadata": {},
   "outputs": [
    {
     "data": {
      "text/plain": [
       "24"
      ]
     },
     "execution_count": 5,
     "metadata": {},
     "output_type": "execute_result"
    }
   ],
   "source": [
    "mul_digits(1234)"
   ]
  },
  {
   "cell_type": "code",
   "execution_count": null,
   "metadata": {},
   "outputs": [],
   "source": [
    "mul_digits2(1234)"
   ]
  },
  {
   "cell_type": "code",
   "execution_count": null,
   "metadata": {},
   "outputs": [],
   "source": [
    "most_frequent(1234)"
   ]
  },
  {
   "cell_type": "code",
   "execution_count": null,
   "metadata": {},
   "outputs": [],
   "source": [
    "most_frequent2(1234)"
   ]
  }
 ],
 "metadata": {
  "kernelspec": {
   "display_name": "Python 3",
   "language": "python",
   "name": "python3"
  },
  "language_info": {
   "codemirror_mode": {
    "name": "ipython",
    "version": 3
   },
   "file_extension": ".py",
   "mimetype": "text/x-python",
   "name": "python",
   "nbconvert_exporter": "python",
   "pygments_lexer": "ipython3",
   "version": "3.8.5"
  }
 },
 "nbformat": 4,
 "nbformat_minor": 4
}
