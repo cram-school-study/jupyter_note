{
 "cells": [
  {
   "cell_type": "code",
   "execution_count": null,
   "metadata": {},
   "outputs": [],
   "source": [
    "# 정다면체 확률\n",
    "# 4, 6, 8, 12, 20 중 하나\n",
    "# 확률 동일시에는 오름차순 차례대로 출력\n",
    "\n",
    "def baaaam_by_jeong():\n",
    "    n = int(input(\"n 입력!!\"))\n",
    "    m = int(input(\"m 입력!!\"))\n",
    "\n",
    "    cnt = 0\n",
    "    toggle = True\n",
    "    list =[]\n",
    "    if m>n: cnt = m-n+1\n",
    "    else: \n",
    "        cnt = n-m+1\n",
    "        toggle=False\n",
    "    \n",
    "    for i in range(cnt):\n",
    "        if toggle: list.append(str(n+i+1))\n",
    "        else: list.append(str(m+i+1))\n",
    "\n",
    "    print(' '.join(list))\n",
    "\n",
    "\n",
    "\n",
    "def baaaam_by_teacher():\n",
    "    n,m = map(int, input(\"n,m을 컴마로 구분해서 입력하세요\").split(','))\n",
    "\n",
    "    for i in range(1, n+1):\n",
    "        for j in range(1, m+1):\n",
    "            index=i+j\n",
    "            cnt[index]+=1\n",
    "\n",
    "    for i in range(n+m+1):\n",
    "        if cnt[i]>max_val:\n",
    "            max_val = cnt[i]\n",
    "\n",
    "    for i in range(n+m+1):\n",
    "        if cnt[i] == max_val:\n",
    "            print(i, end=' ')\n",
    "\n",
    "def mn_dice(n,m):\n",
    "    if n<m:\n",
    "        return [xx for xx in range(n+1, m+2)]\n",
    "    else:\n",
    "        return [xx for xx in range(m+1, n+2)]"
   ]
  }
 ],
 "metadata": {
  "kernelspec": {
   "display_name": "Python 3",
   "language": "python",
   "name": "python3"
  },
  "language_info": {
   "codemirror_mode": {
    "name": "ipython",
    "version": 3
   },
   "file_extension": ".py",
   "mimetype": "text/x-python",
   "name": "python",
   "nbconvert_exporter": "python",
   "pygments_lexer": "ipython3",
   "version": "3.8.5"
  }
 },
 "nbformat": 4,
 "nbformat_minor": 4
}
