{
 "cells": [
  {
   "cell_type": "code",
   "execution_count": 1,
   "metadata": {},
   "outputs": [],
   "source": [
    "# 리스트의 중간 값 구하기\n",
    "## 리스트의 길이가 짝수일 경우 중간의 값, 중간의 값+1을 더한 후 평균 추출\n",
    "## 리스트의 길이가 홀수일 경우 중간의 값 추출"
   ]
  },
  {
   "cell_type": "code",
   "execution_count": 80,
   "metadata": {},
   "outputs": [],
   "source": [
    "def get_median(data):\n",
    "    # 1. data 리스트 자체를 정렬 하는것\n",
    "    # data.sort()\n",
    "    # 2. data 리스트 리턴 값만 정렬해서 보내는 것\n",
    "    # sorted.data\n",
    "    # 3. sort 함수의 리턴값을 받는것 이므로 None 타입이 반환된다.\n",
    "    # data.sort\n",
    "    \n",
    "    data.sort()\n",
    "    center_index = len(data) // 2\n",
    "    if len(data) % 2 == 1:\n",
    "        return data[center_index]\n",
    "    else:\n",
    "        return (data[center_index]+data[-center_index-1])/2"
   ]
  },
  {
   "cell_type": "code",
   "execution_count": 81,
   "metadata": {},
   "outputs": [
    {
     "data": {
      "text/plain": [
       "3.5"
      ]
     },
     "execution_count": 81,
     "metadata": {},
     "output_type": "execute_result"
    }
   ],
   "source": [
    "get_median([6,5,4,3,2,1])"
   ]
  },
  {
   "cell_type": "code",
   "execution_count": 82,
   "metadata": {},
   "outputs": [
    {
     "data": {
      "text/plain": [
       "3"
      ]
     },
     "execution_count": 82,
     "metadata": {},
     "output_type": "execute_result"
    }
   ],
   "source": [
    "get_median([5,4,3,2,1])"
   ]
  }
 ],
 "metadata": {
  "kernelspec": {
   "display_name": "Python 3",
   "language": "python",
   "name": "python3"
  },
  "language_info": {
   "codemirror_mode": {
    "name": "ipython",
    "version": 3
   },
   "file_extension": ".py",
   "mimetype": "text/x-python",
   "name": "python",
   "nbconvert_exporter": "python",
   "pygments_lexer": "ipython3",
   "version": "3.8.5"
  }
 },
 "nbformat": 4,
 "nbformat_minor": 4
}
